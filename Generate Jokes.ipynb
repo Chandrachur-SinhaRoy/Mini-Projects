{
 "cells": [
  {
   "cell_type": "code",
   "execution_count": 2,
   "id": "ba7428f9",
   "metadata": {},
   "outputs": [
    {
     "name": "stdout",
     "output_type": "stream",
     "text": [
      "Collecting pyjokes\n",
      "  Downloading pyjokes-0.6.0-py2.py3-none-any.whl (26 kB)\n",
      "Installing collected packages: pyjokes\n",
      "Successfully installed pyjokes-0.6.0\n",
      "Note: you may need to restart the kernel to use updated packages.\n"
     ]
    },
    {
     "name": "stderr",
     "output_type": "stream",
     "text": [
      "WARNING: You are using pip version 22.0.4; however, version 22.3.1 is available.\n",
      "You should consider upgrading via the 'c:\\users\\chandrachur\\appdata\\local\\programs\\python\\python39\\python.exe -m pip install --upgrade pip' command.\n"
     ]
    }
   ],
   "source": [
    "pip install pyjokes"
   ]
  },
  {
   "cell_type": "code",
   "execution_count": 3,
   "id": "07f0397c",
   "metadata": {},
   "outputs": [
    {
     "name": "stdout",
     "output_type": "stream",
     "text": [
      "How many programmers does it take to kill a cockroach? Two: one holds, the other installs Windows on it. \n",
      "\n",
      "How many programmers does it take to kill a cockroach? Two: one holds, the other installs Windows on it. \n",
      "\n",
      "1 . Complaining about the lack of smoking shelters, the nicotine addicted Python programmers said there ought to be 'spaces for tabs'. \n",
      "\n",
      "2 . Ubuntu users are apt to get this joke. \n",
      "\n",
      "3 . Obfuscated Reality Mappers (ORMs) can be useful database tools. \n",
      "\n",
      "4 . Asked to explain Unicode during an interview, Geoff went into detail about his final year university project. He was not hired. \n",
      "\n",
      "5 . Triumphantly, Beth removed Python 2.7 from her server in 2030. 'Finally!' she said with glee, only to see the announcement for Python 4.4. \n",
      "\n"
     ]
    }
   ],
   "source": [
    "'''\n",
    "Python Program to Generate Random Jokes\n",
    "'''\n",
    "\n",
    "# Import the necessary package\n",
    "import pyjokes\n",
    "\n",
    "# Fetch the joke\n",
    "joke1 = pyjokes.get_joke(language=\"en\", category=\"all\")\n",
    "\n",
    "# Display the joke\n",
    "print(joke1,\"\\n\")\n",
    "\n",
    "# Different category\n",
    "joke2 = pyjokes.get_joke(language=\"en\", category=\"neutral\")\n",
    "\n",
    "# Display the joke\n",
    "print(joke2,\"\\n\")\n",
    "\n",
    "# Fetch multiple jokes\n",
    "jokes = pyjokes.get_jokes(language=\"en\", category=\"neutral\")\n",
    "\n",
    "for i in range(5):\n",
    "    print(i+1,\".\",jokes[i],\"\\n\")"
   ]
  },
  {
   "cell_type": "code",
   "execution_count": null,
   "id": "7477e962",
   "metadata": {},
   "outputs": [],
   "source": []
  }
 ],
 "metadata": {
  "kernelspec": {
   "display_name": "Python 3 (ipykernel)",
   "language": "python",
   "name": "python3"
  },
  "language_info": {
   "codemirror_mode": {
    "name": "ipython",
    "version": 3
   },
   "file_extension": ".py",
   "mimetype": "text/x-python",
   "name": "python",
   "nbconvert_exporter": "python",
   "pygments_lexer": "ipython3",
   "version": "3.9.6"
  }
 },
 "nbformat": 4,
 "nbformat_minor": 5
}
