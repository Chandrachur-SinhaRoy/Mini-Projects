{
 "cells": [
  {
   "cell_type": "code",
   "execution_count": 1,
   "id": "ef0c5360",
   "metadata": {},
   "outputs": [
    {
     "name": "stdout",
     "output_type": "stream",
     "text": [
      "Collecting turtle\n",
      "  Downloading turtle-0.0.2.tar.gz (11 kB)\n",
      "  Preparing metadata (setup.py): started\n",
      "  Preparing metadata (setup.py): finished with status 'error'\n",
      "Note: you may need to restart the kernel to use updated packages.\n"
     ]
    },
    {
     "name": "stderr",
     "output_type": "stream",
     "text": [
      "  error: subprocess-exited-with-error\n",
      "  \n",
      "  python setup.py egg_info did not run successfully.\n",
      "  exit code: 1\n",
      "  \n",
      "  [7 lines of output]\n",
      "  Traceback (most recent call last):\n",
      "    File \"<string>\", line 2, in <module>\n",
      "    File \"<pip-setuptools-caller>\", line 34, in <module>\n",
      "    File \"C:\\Users\\Chandrachur\\AppData\\Local\\Temp\\pip-install-ra4u0peh\\turtle_6d31fc66eea341f785980eaa141e2956\\setup.py\", line 40\n",
      "      except ValueError, ve:\n",
      "                       ^\n",
      "  SyntaxError: invalid syntax\n",
      "  [end of output]\n",
      "  \n",
      "  note: This error originates from a subprocess, and is likely not a problem with pip.\n",
      "error: metadata-generation-failed\n",
      "\n",
      "Encountered error while generating package metadata.\n",
      "\n",
      "See above for output.\n",
      "\n",
      "note: This is an issue with the package mentioned above, not pip.\n",
      "hint: See above for details.\n",
      "WARNING: You are using pip version 22.0.4; however, version 22.3.1 is available.\n",
      "You should consider upgrading via the 'c:\\users\\chandrachur\\appdata\\local\\programs\\python\\python39\\python.exe -m pip install --upgrade pip' command.\n"
     ]
    }
   ],
   "source": [
    "pip install turtle"
   ]
  },
  {
   "cell_type": "code",
   "execution_count": 2,
   "id": "720ebc48",
   "metadata": {},
   "outputs": [],
   "source": [
    "'''\n",
    "Python Program to Create Digital Clock\n",
    "'''\n",
    "\n",
    "# Import necessary modules!\n",
    "import turtle\n",
    "import random\n",
    "from turtle import *\n",
    "from time import sleep\n",
    "\n",
    "static_turtle = turtle.Turtle()\n",
    "frame = turtle.Screen()\n",
    "\n",
    "def tree(branch_len, inner_turtle):\n",
    "    if branch_len > 3:\n",
    "        if 9 <= branch_len <= 12:\n",
    "            if random.randint(0, 2) == 0:\n",
    "                inner_turtle.color(\"snow\")\n",
    "            else:\n",
    "                inner_turtle.color(\"lightcoral\")\n",
    "            inner_turtle.pensize(branch_len / 3)\n",
    "        elif branch_len < 9:\n",
    "            if random.randint(0, 1) == 0:\n",
    "                inner_turtle.color(\"snow\")\n",
    "            else:\n",
    "                inner_turtle.color(\"lightcoral\")\n",
    "            inner_turtle.pensize(branch_len / 2)\n",
    "        else:\n",
    "            inner_turtle.color(\"sienna\")\n",
    "            inner_turtle.pensize(branch_len / 10)\n",
    "\n",
    "        inner_turtle.forward(branch_len)\n",
    "        angle_elem = 1.5 * random.random()\n",
    "        inner_turtle.right(20 * angle_elem)\n",
    "        length_elem = 1.5 * random.random()\n",
    "        tree(branch_len - 10 * length_elem, inner_turtle)\n",
    "        inner_turtle.left(40 * angle_elem)\n",
    "        tree(branch_len - 10 * length_elem, inner_turtle)\n",
    "        inner_turtle.right(20 * angle_elem)\n",
    "        inner_turtle.up()\n",
    "        inner_turtle.backward(branch_len)\n",
    "        inner_turtle.down()\n",
    "        \n",
    "def petal(maxim, inner_turtle):\n",
    "    for i in range(maxim):\n",
    "        right_branch = 300 - 500 * random.random()\n",
    "        left_branch = 30 - 50 * random.random()\n",
    "        inner_turtle.up()\n",
    "        inner_turtle.forward(left_branch)\n",
    "        inner_turtle.left(90)\n",
    "        inner_turtle.forward(right_branch)\n",
    "        inner_turtle.down()\n",
    "        inner_turtle.color(\"lightcoral\")\n",
    "        inner_turtle.circle(1)\n",
    "        inner_turtle.up()\n",
    "        inner_turtle.backward(right_branch)\n",
    "        inner_turtle.right(90)\n",
    "        inner_turtle.backward(left_branch)\n",
    "        \n",
    "if __name__ == '__main__':\n",
    "    static_turtle = turtle.Turtle()\n",
    "    my_frame = turtle.Screen()\n",
    "    getscreen().tracer(5, 0)\n",
    "    turtle.screensize(bg=\"#f3cef5\") \n",
    "    static_turtle.left(90)\n",
    "    static_turtle.up()\n",
    "    static_turtle.backward(150)\n",
    "    static_turtle.down()\n",
    "    static_turtle.color(\"sienna\") \n",
    "    tree(60, static_turtle)\n",
    "    petal(100, static_turtle)\n",
    "    my_frame.exitonclick()        \n"
   ]
  },
  {
   "cell_type": "code",
   "execution_count": null,
   "id": "e81d4ad0",
   "metadata": {},
   "outputs": [],
   "source": []
  }
 ],
 "metadata": {
  "kernelspec": {
   "display_name": "Python 3 (ipykernel)",
   "language": "python",
   "name": "python3"
  },
  "language_info": {
   "codemirror_mode": {
    "name": "ipython",
    "version": 3
   },
   "file_extension": ".py",
   "mimetype": "text/x-python",
   "name": "python",
   "nbconvert_exporter": "python",
   "pygments_lexer": "ipython3",
   "version": "3.9.6"
  }
 },
 "nbformat": 4,
 "nbformat_minor": 5
}
