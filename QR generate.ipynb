{
 "cells": [
  {
   "cell_type": "code",
   "execution_count": 7,
   "id": "be70db85",
   "metadata": {},
   "outputs": [
    {
     "name": "stdout",
     "output_type": "stream",
     "text": [
      "Collecting pypngNote: you may need to restart the kernel to use updated packages.\n"
     ]
    },
    {
     "name": "stderr",
     "output_type": "stream",
     "text": [
      "WARNING: You are using pip version 22.0.4; however, version 22.3.1 is available.\n",
      "You should consider upgrading via the 'c:\\users\\chandrachur\\appdata\\local\\programs\\python\\python39\\python.exe -m pip install --upgrade pip' command.\n"
     ]
    },
    {
     "name": "stdout",
     "output_type": "stream",
     "text": [
      "\n",
      "  Downloading pypng-0.20220715.0-py3-none-any.whl (58 kB)\n",
      "     -------------------------------------- 58.1/58.1 KB 771.2 kB/s eta 0:00:00\n",
      "Installing collected packages: pypng\n",
      "Successfully installed pypng-0.20220715.0\n"
     ]
    }
   ],
   "source": [
    "pip install pypng"
   ]
  },
  {
   "cell_type": "code",
   "execution_count": 9,
   "id": "7e1c870a",
   "metadata": {},
   "outputs": [],
   "source": [
    "'''\n",
    "Python Program to Generate QR Code\n",
    "'''\n",
    "\n",
    "# Import the necessary module!\n",
    "import pyqrcode\n",
    "\n",
    "# Define the data:\n",
    "# We need some text that we want to convert as our QR Code. \n",
    "# Since I am creating the QR Code for my github profile, \n",
    "# I will \"https://github.com/milaan9\" as data here. Let's store inside a variable.\n",
    "data = \"https://github.com/Chandrachur-SinhaRoy\"\n",
    "\n",
    "# Create qrcode:\n",
    "# Now that we have the data with us, we can move forward and \n",
    "# make use of the package we just imported. Let's create an variable.\n",
    "# We will use the create method (as it results in a cleaner looking code) on data.\n",
    "qr = pyqrcode.create(data)\n",
    "\n",
    "# Save the qrcode in png format with proper scaling:\n",
    "# Now let's store it in .png format with proper scaling.\n",
    "qr.png(\"githubID.png\", scale= 5)"
   ]
  },
  {
   "cell_type": "code",
   "execution_count": null,
   "id": "f2d70b13",
   "metadata": {},
   "outputs": [],
   "source": []
  }
 ],
 "metadata": {
  "kernelspec": {
   "display_name": "Python 3 (ipykernel)",
   "language": "python",
   "name": "python3"
  },
  "language_info": {
   "codemirror_mode": {
    "name": "ipython",
    "version": 3
   },
   "file_extension": ".py",
   "mimetype": "text/x-python",
   "name": "python",
   "nbconvert_exporter": "python",
   "pygments_lexer": "ipython3",
   "version": "3.9.6"
  }
 },
 "nbformat": 4,
 "nbformat_minor": 5
}
